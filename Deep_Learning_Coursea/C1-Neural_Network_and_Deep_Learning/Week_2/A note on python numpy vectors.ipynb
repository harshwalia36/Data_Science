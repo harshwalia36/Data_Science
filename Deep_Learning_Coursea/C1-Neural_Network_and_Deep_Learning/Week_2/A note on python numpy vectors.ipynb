{
 "cells": [
  {
   "cell_type": "code",
   "execution_count": 1,
   "metadata": {},
   "outputs": [],
   "source": [
    "import numpy as np\n",
    "\n",
    "c=np.random.randn(5)"
   ]
  },
  {
   "cell_type": "code",
   "execution_count": 2,
   "metadata": {},
   "outputs": [
    {
     "name": "stdout",
     "output_type": "stream",
     "text": [
      "[ 1.26681463 -0.59944006  0.05556821 -2.61900873  0.73904639]\n"
     ]
    }
   ],
   "source": [
    "print(c)    #this is a \"Rank 1 array- this is a very funny D.S . It doesn't behave consistently as either a row vector nor a column vector\""
   ]
  },
  {
   "cell_type": "markdown",
   "metadata": {},
   "source": [
    "### Don't use these Rank 1 arrays"
   ]
  },
  {
   "cell_type": "code",
   "execution_count": 3,
   "metadata": {},
   "outputs": [
    {
     "data": {
      "text/plain": [
       "numpy.ndarray"
      ]
     },
     "execution_count": 3,
     "metadata": {},
     "output_type": "execute_result"
    }
   ],
   "source": [
    "type(c)"
   ]
  },
  {
   "cell_type": "code",
   "execution_count": 4,
   "metadata": {},
   "outputs": [
    {
     "name": "stdout",
     "output_type": "stream",
     "text": [
      "(5,)\n"
     ]
    }
   ],
   "source": [
    "print(c.shape)"
   ]
  },
  {
   "cell_type": "code",
   "execution_count": 5,
   "metadata": {},
   "outputs": [
    {
     "data": {
      "text/plain": [
       "array([[ 1.26681463],\n",
       "       [-0.59944006],\n",
       "       [ 0.05556821],\n",
       "       [-2.61900873],\n",
       "       [ 0.73904639]])"
      ]
     },
     "execution_count": 5,
     "metadata": {},
     "output_type": "execute_result"
    }
   ],
   "source": [
    "c=c.reshape(5,1)\n",
    "c"
   ]
  },
  {
   "cell_type": "code",
   "execution_count": 9,
   "metadata": {},
   "outputs": [
    {
     "name": "stdout",
     "output_type": "stream",
     "text": [
      "[[ 0.96091404  0.74502413  1.07854713 -0.05114677  0.65586579]]\n"
     ]
    }
   ],
   "source": [
    "b=np.random.randn(1,5)   #row vector\n",
    "print(b)"
   ]
  },
  {
   "cell_type": "code",
   "execution_count": 11,
   "metadata": {},
   "outputs": [],
   "source": [
    "a=np.random.randn(5,1)   #column vector\n",
    "assert(b.shape==(1,5))    # to make sure it is (1,5) row vector"
   ]
  },
  {
   "cell_type": "code",
   "execution_count": 12,
   "metadata": {},
   "outputs": [
    {
     "name": "stdout",
     "output_type": "stream",
     "text": [
      "[[ 0.35004733  0.24201363 -0.02519318  0.355415    0.89118798]]\n"
     ]
    }
   ],
   "source": [
    "print(a.T)  #column vector"
   ]
  },
  {
   "cell_type": "code",
   "execution_count": 13,
   "metadata": {},
   "outputs": [
    {
     "name": "stdout",
     "output_type": "stream",
     "text": [
      "[[ 1.22533135e-01  8.47162246e-02 -8.81880409e-03  1.24412074e-01\n",
      "   3.11957976e-01]\n",
      " [ 8.47162246e-02  5.85705957e-02 -6.09709193e-03  8.60152744e-02\n",
      "   2.15679636e-01]\n",
      " [-8.81880409e-03 -6.09709193e-03  6.34696122e-04 -8.95403280e-03\n",
      "  -2.24518558e-02]\n",
      " [ 1.24412074e-01  8.60152744e-02 -8.95403280e-03  1.26319826e-01\n",
      "   3.16741581e-01]\n",
      " [ 3.11957976e-01  2.15679636e-01 -2.24518558e-02  3.16741581e-01\n",
      "   7.94216022e-01]]\n"
     ]
    }
   ],
   "source": [
    "print(np.dot(a,a.T))"
   ]
  },
  {
   "cell_type": "code",
   "execution_count": null,
   "metadata": {},
   "outputs": [],
   "source": []
  },
  {
   "cell_type": "code",
   "execution_count": 14,
   "metadata": {},
   "outputs": [],
   "source": [
    "a = np.random.randn(3, 3)\n",
    "b = np.random.randn(3, 1)\n",
    "c = a*b"
   ]
  },
  {
   "cell_type": "code",
   "execution_count": 15,
   "metadata": {},
   "outputs": [
    {
     "data": {
      "text/plain": [
       "array([[ 0.00657313,  0.28344995,  0.01449725],\n",
       "       [ 0.01834474, -0.29507668,  0.28988496],\n",
       "       [-0.22026468, -0.12575899,  0.2094746 ]])"
      ]
     },
     "execution_count": 15,
     "metadata": {},
     "output_type": "execute_result"
    }
   ],
   "source": [
    "c"
   ]
  },
  {
   "cell_type": "code",
   "execution_count": null,
   "metadata": {},
   "outputs": [],
   "source": []
  }
 ],
 "metadata": {
  "kernelspec": {
   "display_name": "Python 3",
   "language": "python",
   "name": "python3"
  },
  "language_info": {
   "codemirror_mode": {
    "name": "ipython",
    "version": 3
   },
   "file_extension": ".py",
   "mimetype": "text/x-python",
   "name": "python",
   "nbconvert_exporter": "python",
   "pygments_lexer": "ipython3",
   "version": "3.7.6"
  }
 },
 "nbformat": 4,
 "nbformat_minor": 4
}
