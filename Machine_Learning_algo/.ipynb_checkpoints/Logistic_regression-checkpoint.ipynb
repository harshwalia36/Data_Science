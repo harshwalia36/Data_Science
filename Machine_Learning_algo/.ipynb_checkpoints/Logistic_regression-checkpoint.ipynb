{
 "cells": [
  {
   "cell_type": "markdown",
   "metadata": {},
   "source": [
    "# logistic regression"
   ]
  },
  {
   "cell_type": "code",
   "execution_count": null,
   "metadata": {},
   "outputs": [],
   "source": [
    "#import library\n",
    "from sklearn.linear_model import LogisticRegression\n",
    "# Assumed you have X(Predictor) and Y(Target) fro training data set and x_test(predictor)\n",
    "#create logistic regression object\n",
    "model=LogisticRegression()\n",
    "#Train the model using the Training Sets and check the score\n",
    "model.fit(X,Y)\n",
    "model.score(X,Y)\n",
    "#Equation Coefficient and Intercept\n",
    "print('Coefficient: \\n',model.coef_)\n",
    "print('Intercept: \\n',model.intercept_)\n",
    "y_pred=model.predict(x_test)"
   ]
  }
 ],
 "metadata": {
  "kernelspec": {
   "display_name": "Python 3",
   "language": "python",
   "name": "python3"
  },
  "language_info": {
   "codemirror_mode": {
    "name": "ipython",
    "version": 3
   },
   "file_extension": ".py",
   "mimetype": "text/x-python",
   "name": "python",
   "nbconvert_exporter": "python",
   "pygments_lexer": "ipython3",
   "version": "3.7.6"
  }
 },
 "nbformat": 4,
 "nbformat_minor": 4
}
